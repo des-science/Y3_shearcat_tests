{
 "cells": [
  {
   "cell_type": "code",
   "execution_count": 1,
   "metadata": {},
   "outputs": [],
   "source": [
    "#! /usr/bin/env python\n",
    "\n",
    "from __future__ import print_function\n",
    "import os\n",
    "import numpy as np\n",
    "#from read_psf_cats import read_data, band_combinations\n",
    "import fitsio\n",
    "import treecorr\n",
    "import matplotlib\n",
    "#matplotlib.use('Agg')\n",
    "import matplotlib.pyplot as plt\n",
    "from astropy.io import fits"
   ]
  },
  {
   "cell_type": "code",
   "execution_count": 2,
   "metadata": {},
   "outputs": [
    {
     "name": "stdout",
     "output_type": "stream",
     "text": [
      "(56707987,)\n",
      "38137671\n",
      "-61.9685320640985\n",
      "38137671\n",
      "<class 'numpy.ndarray'>\n",
      "[( 3.88902716e-06, -37.05185456, 1686.5288077 , 1496.62491822, -0.05416345, -0.01405471, 0.2216893 , -0.04722466, -0.01642145, 0.24054351, 20.53555298, -2493.83732358, -1825.31864651, 386640,  4, 'z', 0)\n",
      " ( 3.89533041e-05,  -2.41734978, 1717.85717519,  542.75516931,  0.01641352,  0.02661008, 0.47625814,  0.01935986,  0.02531338, 0.47644888, 18.63895226,  1664.75243707,  1284.42760953, 251797, 49, 'r', 0)\n",
      " ( 5.47103130e-05,  -2.92039452, 1864.9216464 , 2695.68822803, -0.05126323,  0.02683974, 0.5384173 , -0.04296035,  0.03687792, 0.51865239, 17.34756088,  3482.151993  ,  1290.54667064, 251798, 62, 'i', 0)\n",
      " ...\n",
      " (-2.78833683e-05, -59.64632164,  498.74058908,   47.25702274, -0.02084245, -0.02477175, 0.32561721, -0.02484744, -0.03174512, 0.3244623 , 17.05013084,  2529.93917493, -2206.50240302, 504500, 56, 'z', 0)\n",
      " (-1.03070254e-05, -54.76289575,  680.74910677, 2823.19287518, -0.00975337,  0.02598232, 0.42259063, -0.0121193 ,  0.03098987, 0.41978347, 20.30125999,   206.17861508, -2036.53360716, 251365, 33, 'r', 0)\n",
      " (-3.09751687e-06, -54.76288721,  687.7467274 , 2812.44207521, -0.00828892,  0.02876782, 0.37683921, -0.01420882,  0.01593642, 0.37971591, 20.16308212,   208.01898931, -2039.36106755, 251366, 33, 'i', 0)]\n"
     ]
    }
   ],
   "source": [
    "prefix='piff' #'psfex'\n",
    "\n",
    "#reserve stars catalogue with Piff solutions\n",
    "data = fitsio.read('/global/homes/m/mjarvis/desdata/users/mjarvis/y3a1-v29/psf_y3a1-v29.fits')\n",
    "#h = fitsio.read_header('/global/homes/m/mjarvis/desdata/users/mjarvis/y3a1-v29/psf_y3a1-v29.fits')\n",
    "#print(h)\n",
    "band=data['band']\n",
    "print(np.shape(data))\n",
    "data=data[np.where((band == 'r') | (band == 'i') | (band == 'z') )] #| (band == 'g')) ]\n",
    "#print(data[:100])\n",
    "data = data[data['ra'].argsort()]#[:10000]\n",
    "#print(data)\n",
    "print(len(data))\n",
    "rastarcat = data['ra']\n",
    "decstarcat = data['dec'] \n",
    "rastarcat[rastarcat > 180] -= 360\n",
    "#data=data[np.where(rastarcat>-40)]\n",
    "#rastarcat = rastarcat[np.where(rastarcat>-40)]\n",
    "#decstarcat = decstarcat[np.where(rastarcat>-40)]\n",
    "print(min(data['ra']))\n",
    "print(len(data))\n",
    "print(type(data))\n",
    "\n",
    "print(data)\n"
   ]
  },
  {
   "cell_type": "code",
   "execution_count": 3,
   "metadata": {},
   "outputs": [],
   "source": [
    "def compute_res(d):\n",
    "\n",
    "    de1 =  d['obs_e1']-d[prefix+'_e1']\n",
    "    de2 =  d['obs_e2']-d[prefix+'_e2']\n",
    "    dt =  (d['obs_T']-d[prefix+'_T'])\n",
    "    dtfrac = dt/d['obs_T']\n",
    "    print('mean de = ',np.mean(de1),np.mean(de2))\n",
    "    print('mean dt = ',np.mean(dt))\n",
    "\n",
    "    return dtfrac, dt,  de1, de2"
   ]
  },
  {
   "cell_type": "code",
   "execution_count": 4,
   "metadata": {},
   "outputs": [],
   "source": [
    "def compute_res(d):\n",
    "\n",
    "    de1 =  d['obs_e1']-d[prefix+'_e1']\n",
    "    de2 =  d['obs_e2']-d[prefix+'_e2']\n",
    "    dt =  (d['obs_T']-d[prefix+'_T'])\n",
    "    dtfrac = dt/d['obs_T']\n",
    "    print(de1)\n",
    "    print(d['obs_T'])\n",
    "    de1frac=de1/d['obs_e1']\n",
    "    de2frac=de2/d['obs_e2']\n",
    "    print(de1frac)\n",
    "    print(de2frac)\n",
    "    #for k in range(len(tile_data)):\n",
    "    #print('k = ',k)\n",
    "    print('mean de = ',np.mean(de1),np.mean(de2))\n",
    "    print('mean dt = ',np.mean(dt))\n",
    "    print('mean de frac = ',np.mean(de1frac),np.mean(de2frac))\n",
    "    print('mean dt frac = ',np.mean(dtfrac))    \n",
    "    print(len(de1frac))\n",
    "    print(len(de1frac[np.where(np.isnan(de1frac)==True)]))\n",
    "          \n",
    "    fig, axes = plt.subplots(1,3, sharex=False, sharey=True)\n",
    "    \n",
    "    ax = axes[0]\n",
    "    ax.hist(dtfrac)\n",
    "    ax.set_xlabel(r'$(T_{\\rm PSF} - T_{\\rm model})/ T_{\\rm PSF}$', fontsize='x-large')\n",
    "    #plt.title('riz-only')\n",
    "    \n",
    "    ax = axes[1]\n",
    "    ax.hist(de1frac,range=(-1,1))\n",
    "    ax.set_xlabel(r'$(e1_{\\rm PSF} - e1_{\\rm model})$', fontsize='x-large')\n",
    "    ax.set_title('g-only')\n",
    "    \n",
    "    ax = axes[2]\n",
    "    ax.hist(de2frac,range=(-1,1))\n",
    "    ax.set_xlabel(r'$(e2_{\\rm PSF} - e2_{\\rm model})$', fontsize='x-large')\n",
    "    #plt.title('riz-only')\n",
    "    fig.set_size_inches(10.0,4.0)\n",
    "    plt.tight_layout()\n",
    "\n",
    "    return dtfrac, dt,  de1, de2\n"
   ]
  },
  {
   "cell_type": "code",
   "execution_count": 8,
   "metadata": {},
   "outputs": [
    {
     "name": "stdout",
     "output_type": "stream",
     "text": [
      "[-0.00693879 -0.00294634 -0.00830289 ...  0.00400499  0.00236593\n",
      "  0.0059199 ]\n",
      "[0.2216893  0.47625814 0.5384173  ... 0.32561721 0.42259063 0.37683921]\n"
     ]
    },
    {
     "name": "stderr",
     "output_type": "stream",
     "text": [
      "/global/homes/m/mgatti/.conda/envs/py3s/lib/python3.6/site-packages/ipykernel_launcher.py:9: RuntimeWarning: divide by zero encountered in true_divide\n",
      "  if __name__ == '__main__':\n",
      "/global/homes/m/mgatti/.conda/envs/py3s/lib/python3.6/site-packages/ipykernel_launcher.py:10: RuntimeWarning: divide by zero encountered in true_divide\n",
      "  # Remove the CWD from sys.path while we load stuff.\n",
      "/global/homes/m/mgatti/.conda/envs/py3s/lib/python3.6/site-packages/numpy/core/_methods.py:151: RuntimeWarning: invalid value encountered in reduce\n",
      "  ret = umr_sum(arr, axis, dtype, out, keepdims)\n"
     ]
    },
    {
     "name": "stdout",
     "output_type": "stream",
     "text": [
      "[ 0.12810834 -0.17950698  0.16196572 ... -0.19215536 -0.24257545\n",
      " -0.71419448]\n",
      "[-0.16839457  0.04872963 -0.37400428 ... -0.2815049  -0.19272914\n",
      "  0.44603324]\n",
      "mean de =  3.338247254019646e-05 -4.070639733771647e-05\n",
      "mean dt =  -0.00012812884472708427\n",
      "mean de frac =  nan nan\n",
      "mean dt frac =  -0.0007133795364521039\n",
      "38137671\n",
      "0\n"
     ]
    },
    {
     "data": {
      "image/png": "[encoded data removed]",
      "text/plain": [
       "<Figure size 720x288 with 3 Axes>"
      ]
     },
     "metadata": {
      "needs_background": "light"
     },
     "output_type": "display_data"
    }
   ],
   "source": [
    "fracsizeres, sizeres, e1res, e2res=compute_res(data)"
   ]
  },
  {
   "cell_type": "code",
   "execution_count": 14,
   "metadata": {},
   "outputs": [],
   "source": [
    "#want psf vs mag- brighter vs fatter\n",
    "def bin_by_mag(m, dT, dTfrac, de1, de2, min_mused):\n",
    "    min_mag = 15 # 15\n",
    "    max_mag = 21 #21\n",
    "     \n",
    "    mag_bins = np.linspace(min_mag,max_mag,31)\n",
    "    #print('mag_bins = ',mag_bins)\n",
    "\n",
    "    index = np.digitize(m, mag_bins)\n",
    "    #print('len(index) = ',len(index))\n",
    "    bin_de1 = [de1[index == i].mean() for i in range(1, len(mag_bins))]\n",
    "    #print('bin_de1 = ',bin_de1)\n",
    "    bin_de2 = [de2[index == i].mean() for i in range(1, len(mag_bins))]\n",
    "    #print('bin_de2 = ',bin_de2)\n",
    "    bin_dT = [dT[index == i].mean() for i in range(1, len(mag_bins))]\n",
    "    #print('bin_dT = ',bin_dT)\n",
    "    bin_dTfrac = [dTfrac[index == i].mean() for i in range(1, len(mag_bins))]\n",
    "    #print('bin_dTfrac = ',bin_dTfrac)\n",
    "    bin_de1_err = [ np.sqrt(de1[index == i].var() / len(de1[index == i]))\n",
    "                    for i in range(1, len(mag_bins)) ]\n",
    "    #print('bin_de1_err = ',bin_de1_err)\n",
    "    bin_de2_err = [ np.sqrt(de2[index == i].var() / len(de2[index == i]))\n",
    "                    for i in range(1, len(mag_bins)) ]\n",
    "    #print('bin_de2_err = ',bin_de2_err)\n",
    "    bin_dT_err = [ np.sqrt(dT[index == i].var() / len(dT[index == i]))\n",
    "                    for i in range(1, len(mag_bins)) ]\n",
    "    #print('bin_dT_err = ',bin_dT_err)\n",
    "    bin_dTfrac_err = [ np.sqrt(dTfrac[index == i].var() / len(dTfrac[index == i]))\n",
    "                    for i in range(1, len(mag_bins)) ]\n",
    "    #print('bin_dTfrac_err = ',bin_dTfrac_err)\n",
    "    #for i in range(1, len(mag_bins)):\n",
    "        #print('len(index) = ',len(de1[index == i]))\n",
    "    # Fix up nans\n",
    "    for i in range(1,len(mag_bins)):\n",
    "        if i not in index:\n",
    "            bin_de1[i-1] = 0.\n",
    "            bin_de2[i-1] = 0.\n",
    "            bin_dT[i-1] = 0.\n",
    "            bin_dTfrac[i-1] = 0.\n",
    "            bin_de1_err[i-1] = 0.\n",
    "            bin_de2_err[i-1] = 0.\n",
    "            bin_dT_err[i-1] = 0.\n",
    "            bin_dTfrac_err[i-1] = 0.\n",
    "    #print('fixed nans')\n",
    "    #print('index = ',index)\n",
    "    #print('bin_de1 = ',bin_de1)\n",
    "    #print('bin_de2 = ',bin_de2)\n",
    "    #print('bin_dT = ',bin_dT)\n",
    "    \n",
    "    fit = np.polyfit(mag_bins[:-1], bin_dT, 3)\n",
    "    fit_fn = np.poly1d(fit) \n",
    "    # fit_fn is now a function which takes in x and returns an estimate for y\n",
    "\n",
    "    \n",
    "    fig, axes = plt.subplots(3,1, sharex=True)\n",
    "    min_mag=15\n",
    "    max_mag=21\n",
    "    min_mused=16.5\n",
    "\n",
    "    ax = axes[0]\n",
    "    ax.set_ylim(-0.003,0.003)\n",
    "    ax.plot([min_mag,max_mag], [0,0], color='black')\n",
    "    ax.fill( [min_mag,min_mag,min_mused,min_mused], [-1,1,1,-1], fill=True, color='Grey',alpha=0.3)\n",
    "    t_line = ax.errorbar(mag_bins[:-1], bin_dT, yerr=bin_dT_err, color='blue', fmt='o',label=\"all\")\n",
    "    ax.set_ylabel(r'$(T_{\\rm PSF} - T_{\\rm model}) \\quad({\\rm arcsec}^2)$', fontsize='xx-large')\n",
    "\n",
    "    ax = axes[1]\n",
    "    ax.set_ylim(-0.005,0.005)\n",
    "    ax.plot([min_mag,max_mag], [0,0], color='black')\n",
    "    ax.fill( [min_mag,min_mag,min_mused,min_mused], [-1,1,1,-1], fill=True, color='Grey',alpha=0.3)\n",
    "    t_line = ax.errorbar(mag_bins[:-1], bin_dTfrac, yerr=bin_dTfrac_err, color='blue', fmt='o')\n",
    "    ax.set_ylabel(r'$(T_{\\rm PSF} - T_{\\rm model})/ T_{\\rm PSF}$', fontsize='xx-large')\n",
    "\n",
    "    ax = axes[2]\n",
    "    ax.set_ylim(-5.e-4,5.e-4)\n",
    "    ax.plot([min_mag,max_mag], [0,0], color='black')\n",
    "    ax.fill( [min_mag,min_mag,min_mused,min_mused], [-1,1,1,-1], fill=True, color='Grey',alpha=0.3)\n",
    "    e1_line = ax.errorbar(mag_bins[:-1], bin_de1, yerr=bin_de1_err,  color='red', fmt='o', mfc='white',label=r\"$\\rm{Y3 \\quad e_1}$\")\n",
    "    e2_line = ax.errorbar(mag_bins[:-1], bin_de2, yerr=bin_de2_err, color='blue', fmt='o',label=r\"$\\rm{Y3 \\quad e_2}$\")\n",
    "    ax.legend(loc='lower left')\n",
    "    ax.set_ylabel(r'$e_{\\rm PSF} - e_{\\rm model}$', fontsize='xx-large')\n",
    "    ax.set_xlim(min_mag,max_mag)\n",
    "    ax.set_xlabel(r'$\\rm{Magnitude}$', fontsize='xx-large')\n",
    "    \n",
    "\n",
    "    #plt.hist(meddt[\"Ks\"], 30,range=(-0.004,0.002),color=\"purple\",label=\"Ks\",histtype='step')\n",
    "    plt.rcParams['font.family'] = 'serif'\n",
    "    plt.rcParams['font.serif'] = ['Times New Roman'] + plt.rcParams['font.serif']\n",
    "    plt.rcParams[\"font.family\"] = \"Times New Roman\"\n",
    "    plt.rcParams['mathtext.fontset'] = 'stix'\n",
    "\n",
    "    fig.set_size_inches(7.0,12.0)\n",
    "    plt.tight_layout()\n",
    "    plt.savefig('dpsf_mag_nocolsplits.pdf')\n",
    "    plt.show()\n"
   ]
  },
  {
   "cell_type": "code",
   "execution_count": 15,
   "metadata": {},
   "outputs": [
    {
     "name": "stderr",
     "output_type": "stream",
     "text": [
      "findfont: Font family ['Times New Roman'] not found. Falling back to DejaVu Sans.\n",
      "findfont: Font family ['Times New Roman'] not found. Falling back to DejaVu Sans.\n"
     ]
    },
    {
     "data": {
      "image/png": "[encoded data removed]",
      "text/plain": [
       "<Figure size 504x864 with 3 Axes>"
      ]
     },
     "metadata": {
      "needs_background": "light"
     },
     "output_type": "display_data"
    }
   ],
   "source": [
    "bin_by_mag(data['mag'], sizeres, fracsizeres, e1res, e2res, 16.5)"
   ]
  },
  {
   "cell_type": "code",
   "execution_count": 16,
   "metadata": {},
   "outputs": [
    {
     "name": "stdout",
     "output_type": "stream",
     "text": [
      "[('mag', '>f8')]\n",
      "(14468770,)\n",
      "-61.98074722290039\n",
      "14468770\n",
      "<class 'numpy.ndarray'>\n",
      "[(-35.08337402, -51.49461746, 1385.08886719,  289.10256958, -0.02611214, -0.01467164, 0.49505737, -0.01641884, 0.00725295, 0.4982172 , 228725.,  1., -3166.02323061, -1582.79469488, 'g', 4)\n",
      " (-35.07847595, -51.47761917, 1151.42773438,  327.70162964, -0.02605871,  0.01991907, 0.50882196, -0.01618173, 0.00819806, 0.49870983, 228725.,  1., -3227.47611121, -1572.6431374 , 'g', 4)\n",
      " (-35.06253052, -51.52221298, 1761.66442871,  471.93869019, -0.0125359 ,  0.00453706, 0.50179547, -0.01815333, 0.00487672, 0.50000423, 228725.,  1., -3066.983882  , -1534.7087955 , 'g', 4)\n",
      " ...\n",
      " ( 89.40039825, -40.7200737 , 1508.06188965, 3817.70703125, -0.0570276 ,  0.06596171, 0.3730301 , -0.04524649, 0.03728307, 0.36104339, 283856., 62.,  3388.29786761,  1585.63762391, 'z', 3)\n",
      " ( 89.33240509, -40.66453171,  740.63635254, 3115.56958008, -0.02036899,  0.05031853, 0.34564656, -0.02598967, 0.02943574, 0.34798139, 283856., 62.,  3186.46495135,  1400.97546088, 'z', 3)\n",
      " ( 89.42132568, -40.62299728,  177.60908508, 4042.54980469, -0.02570987,  0.06171069, 0.34501573, -0.02934697, 0.04377325, 0.34666637, 283856., 62.,  3038.38878754,  1644.77122249, 'z', 3)]\n"
     ]
    }
   ],
   "source": [
    "#Y1 DATA\n",
    "\n",
    "#reserve stars catalogue with Piff solutions\n",
    "dataY1 = fitsio.read('/global/cscratch1/sd/aamon/psf_y1a1-v13.fits')\n",
    "magdataY1 = fitsio.read('/global/cscratch1/sd/aamon/psf_y1a1-v13_mag.fits')\n",
    "#h = fitsio.read_header('psf_y1a1-v13.fits')\n",
    "print(magdataY1.dtype)\n",
    "bandY1=dataY1['filter']\n",
    "print(np.shape(dataY1))\n",
    "#dataY1=np.column_stack((dataY1,magdataY1['mag']))\n",
    "#print(np.shape(dataY1))\n",
    "#mask=np.where((bandY1 == 'r') | (bandY1 == 'i') | (bandY1 == 'z') )\n",
    "#dataY1=dataY1[mask] #| (band == 'g')) ]\n",
    "#magdataY1=magdataY1[mask]\n",
    "#dataY1 = dataY1[dataY1['ra'].argsort()]#[:10000]\n",
    "\n",
    "print(min(dataY1['ra']))\n",
    "print(len(dataY1))\n",
    "print(type(dataY1))\n",
    "print(dataY1)\n"
   ]
  },
  {
   "cell_type": "code",
   "execution_count": null,
   "metadata": {},
   "outputs": [],
   "source": []
  },
  {
   "cell_type": "code",
   "execution_count": 17,
   "metadata": {},
   "outputs": [
    {
     "name": "stdout",
     "output_type": "stream",
     "text": [
      "mean de =  0.00022031508470697633 -5.184342545393844e-05\n",
      "mean dt =  0.001516209851312194\n"
     ]
    }
   ],
   "source": [
    "def compute_res_Y1(d):\n",
    "    prefix='psf'\n",
    "    de1 =  d['e1']-d[prefix+'_e1']\n",
    "    de2 =  d['e2']-d[prefix+'_e2']\n",
    "    d['size'] = 2*d['size']**2.\n",
    "    d[prefix+'_size'] = 2*d[prefix+'_size']**2.\n",
    "    dt =  (d['size']-d[prefix+'_size'])\n",
    "    dtfrac = dt/d['size']\n",
    "    print('mean de = ',np.mean(de1),np.mean(de2))\n",
    "    print('mean dt = ',np.mean(dt))\n",
    "\n",
    "    return dtfrac, dt,  de1, de2\n",
    "\n",
    "fracsizeresY1, sizeresY1, e1resY1, e2resY1=compute_res_Y1(dataY1)"
   ]
  },
  {
   "cell_type": "code",
   "execution_count": 18,
   "metadata": {},
   "outputs": [
    {
     "name": "stderr",
     "output_type": "stream",
     "text": [
      "/global/homes/m/mgatti/.conda/envs/py3s/lib/python3.6/site-packages/ipykernel_launcher.py:15: RuntimeWarning: Mean of empty slice.\n",
      "  from ipykernel import kernelapp as app\n",
      "/global/homes/m/mgatti/.conda/envs/py3s/lib/python3.6/site-packages/numpy/core/_methods.py:161: RuntimeWarning: invalid value encountered in double_scalars\n",
      "  ret = ret.dtype.type(ret / rcount)\n",
      "/global/homes/m/mgatti/.conda/envs/py3s/lib/python3.6/site-packages/ipykernel_launcher.py:16: RuntimeWarning: Mean of empty slice.\n",
      "  app.launch_new_instance()\n",
      "/global/homes/m/mgatti/.conda/envs/py3s/lib/python3.6/site-packages/ipykernel_launcher.py:17: RuntimeWarning: Mean of empty slice.\n",
      "/global/homes/m/mgatti/.conda/envs/py3s/lib/python3.6/site-packages/ipykernel_launcher.py:18: RuntimeWarning: Mean of empty slice.\n",
      "/global/homes/m/mgatti/.conda/envs/py3s/lib/python3.6/site-packages/ipykernel_launcher.py:21: RuntimeWarning: Degrees of freedom <= 0 for slice\n",
      "/global/homes/m/mgatti/.conda/envs/py3s/lib/python3.6/site-packages/numpy/core/_methods.py:186: RuntimeWarning: invalid value encountered in true_divide\n",
      "  arrmean, rcount, out=arrmean, casting='unsafe', subok=False)\n",
      "/global/homes/m/mgatti/.conda/envs/py3s/lib/python3.6/site-packages/numpy/core/_methods.py:209: RuntimeWarning: invalid value encountered in double_scalars\n",
      "  ret = ret.dtype.type(ret / rcount)\n",
      "/global/homes/m/mgatti/.conda/envs/py3s/lib/python3.6/site-packages/ipykernel_launcher.py:23: RuntimeWarning: Degrees of freedom <= 0 for slice\n",
      "/global/homes/m/mgatti/.conda/envs/py3s/lib/python3.6/site-packages/ipykernel_launcher.py:25: RuntimeWarning: Degrees of freedom <= 0 for slice\n",
      "/global/homes/m/mgatti/.conda/envs/py3s/lib/python3.6/site-packages/ipykernel_launcher.py:27: RuntimeWarning: Degrees of freedom <= 0 for slice\n"
     ]
    }
   ],
   "source": [
    "#want psf vs mag- brighter vs fatter\n",
    "#def bin_by_mag(m, dT, dTfrac, de1, de2, min_mused):\n",
    "#bin_by_mag(data['mag'], sizeres, fracsizeres, e1res, e2res, 16.5)\n",
    "    \n",
    "#bin_by_mag(data['mag'], sizeres, fracsizeres, e1res, e2res, 16.5)\n",
    "#def bin_by_mag(m, dT, dTfrac, de1, de2, min_mused):\n",
    "min_mag = 15 # 15\n",
    "max_mag = 21 #21\n",
    "min_mused=16.5\n",
    "mag_bins = np.linspace(min_mag,max_mag,31)\n",
    "#print('mag_bins = ',mag_bins)\n",
    "\n",
    "###########################\n",
    "index = np.digitize(magdataY1['mag'], mag_bins)\n",
    "bin_de1Y1 = [e1resY1[index == i].mean() for i in range(1, len(mag_bins))]\n",
    "bin_de2Y1 = [e2resY1[index == i].mean() for i in range(1, len(mag_bins))]\n",
    "bin_dTY1 = [sizeresY1[index == i].mean() for i in range(1, len(mag_bins))]\n",
    "bin_dTfracY1 = [fracsizeresY1[index == i].mean() for i in range(1, len(mag_bins))]\n",
    "\n",
    "bin_de1_errY1 = [ np.sqrt(e1resY1[index == i].var() / len(e1resY1[index == i]))\n",
    "                for i in range(1, len(mag_bins)) ]\n",
    "bin_de2_errY1 = [ np.sqrt(e2resY1[index == i].var() / len(e2resY1[index == i]))\n",
    "                for i in range(1, len(mag_bins)) ]\n",
    "bin_dT_errY1 = [ np.sqrt(sizeresY1[index == i].var() / len(sizeresY1[index == i]))\n",
    "                for i in range(1, len(mag_bins)) ]\n",
    "bin_dTfrac_errY1 = [ np.sqrt(fracsizeresY1[index == i].var() / len(fracsizeresY1[index == i]))\n",
    "                for i in range(1, len(mag_bins)) ]\n",
    "\n",
    "#########################\n",
    "index = np.digitize(data['mag'], mag_bins)\n",
    "bin_de1 = [e1res[index == i].mean() for i in range(1, len(mag_bins))]\n",
    "bin_de2 = [e2res[index == i].mean() for i in range(1, len(mag_bins))]\n",
    "bin_dT = [sizeres[index == i].mean() for i in range(1, len(mag_bins))]\n",
    "bin_dTfrac = [fracsizeres[index == i].mean() for i in range(1, len(mag_bins))]\n",
    "\n",
    "bin_de1_err = [ np.sqrt(e1res[index == i].var() / len(e1res[index == i]))\n",
    "                for i in range(1, len(mag_bins)) ]\n",
    "bin_de2_err = [ np.sqrt(e2res[index == i].var() / len(e2res[index == i]))\n",
    "                for i in range(1, len(mag_bins)) ]\n",
    "bin_dT_err = [ np.sqrt(sizeres[index == i].var() / len(sizeres[index == i]))\n",
    "                for i in range(1, len(mag_bins)) ]\n",
    "bin_dTfrac_err = [ np.sqrt(fracsizeres[index == i].var() / len(fracsizeres[index == i]))\n",
    "                for i in range(1, len(mag_bins)) ]\n",
    "#########################\n",
    "\n",
    "#for i in range(1, len(mag_bins)):\n",
    "    #print('len(index) = ',len(de1[index == i]))\n",
    "# Fix up nans\n",
    "for i in range(1,len(mag_bins)):\n",
    "    if i not in index:\n",
    "        bin_de1[i-1] = 0.\n",
    "        bin_de2[i-1] = 0.\n",
    "        bin_dT[i-1] = 0.\n",
    "        bin_dTfrac[i-1] = 0.\n",
    "        bin_de1_err[i-1] = 0.\n",
    "        bin_de2_err[i-1] = 0.\n",
    "        bin_dT_err[i-1] = 0.\n",
    "        bin_dTfrac_err[i-1] = 0.\n",
    "\n",
    "#fit = np.polyfit(mag_bins[:-1], bin_dT, 3)\n",
    "#fit_fn = np.poly1d(fit) \n",
    "# fit_fn is now a function which takes in x and returns an estimate for y\n",
    "\n",
    "for i in range(1,len(mag_bins)):\n",
    "    if i not in index:\n",
    "        bin_de1Y1[i-1] = 0.\n",
    "        bin_de2Y1[i-1] = 0.\n",
    "        bin_dTY1[i-1] = 0.\n",
    "        bin_dTfracY1[i-1] = 0.\n",
    "        bin_de1_errY1[i-1] = 0.\n",
    "        bin_de2_errY1[i-1] = 0.\n",
    "        bin_dT_errY1[i-1] = 0.\n",
    "        bin_dTfrac_errY1[i-1] = 0."
   ]
  },
  {
   "cell_type": "code",
   "execution_count": 25,
   "metadata": {},
   "outputs": [
    {
     "name": "stderr",
     "output_type": "stream",
     "text": [
      "findfont: Font family ['Times New Roman'] not found. Falling back to DejaVu Sans.\n",
      "findfont: Font family ['Times New Roman'] not found. Falling back to DejaVu Sans.\n"
     ]
    },
    {
     "data": {
      "image/png": "[encoded data removed]",
      "text/plain": [
       "<Figure size 504x864 with 3 Axes>"
      ]
     },
     "metadata": {
      "needs_background": "light"
     },
     "output_type": "display_data"
    }
   ],
   "source": [
    "dictt = dict()\n",
    "dictt['mag_bins'] = mag_bins\n",
    "dictt['bin_dTY1']=bin_dTY1\n",
    "dictt['bin_dT_errY1']=bin_dT_errY1\n",
    "dictt['bin_dT']=bin_dT\n",
    "dictt['bin_dT_err']=bin_dT_err\n",
    "dictt['bin_dTfrac']=bin_dTfrac\n",
    "dictt['bin_dTfrac_err']=bin_dTfrac_err\n",
    "dictt['bin_dTfracY1']=bin_dTfracY1\n",
    "dictt['bin_dTfrac_errY1']=bin_dTfrac_errY1\n",
    "dictt['bin_de1_err']=bin_de1_err\n",
    "dictt['bin_de2_err']=bin_de2_err\n",
    "dictt['bin_de1']=bin_de1\n",
    "dictt['bin_de2']=bin_de2\n",
    "dictt['bin_de1_errY1']=bin_de1_errY1\n",
    "dictt['bin_de2_errY1']=bin_de2_errY1\n",
    "dictt['bin_de1Y1']=bin_de1Y1\n",
    "dictt['bin_de2Y1']=bin_de2Y1\n",
    "dictt['mag_bins']=mag_bins\n",
    "fig, axes = plt.subplots(3,1, sharex=True)\n",
    "min_mag=15\n",
    "max_mag=21\n",
    "min_mused=16.5\n",
    "\n",
    "ax = axes[0]\n",
    "ax.set_ylim(-0.001,0.004)\n",
    "#ax.set_ylim(-0.003,0.003)\n",
    "ax.plot([min_mag,max_mag], [0,0], color='black')\n",
    "ax.fill( [min_mag,min_mag,min_mused,min_mused], [-1,1,1,-1], fill=True, color='Grey',alpha=0.3)\n",
    "t_line = ax.errorbar(mag_bins[:-1], dictt['bin_dT'], yerr=dictt['bin_dT_err'], color='blue', fmt='o',label=\"all\")\n",
    "t_lineY1 = ax.errorbar(dictt['mag_bins'] [18:-1], dictt['bin_dTY1'][18:], yerr=dictt['bin_dT_errY1'][18:], color='blue', fmt='o',label=\"all\", mfc='white')\n",
    "ax.set_ylabel(r'$(T_{\\rm PSF} - T_{\\rm model}) \\quad({\\rm arcsec}^2)$', fontsize='xx-large')\n",
    "\n",
    "ax = axes[1]\n",
    "ax.set_ylim(-0.005,0.01)\n",
    "ax.plot([min_mag,max_mag], [0,0], color='black')\n",
    "ax.fill( [min_mag,min_mag,min_mused,min_mused], [-1,1,1,-1], fill=True, color='Grey',alpha=0.3)\n",
    "t_line = ax.errorbar(mag_bins[:-1], dictt['bin_dTfrac'], yerr=dictt['bin_dTfrac_err'], color='blue', fmt='o')\n",
    "t_lineY1 = ax.errorbar(mag_bins[18:-1], dictt['bin_dTfracY1'][18:], yerr=dictt['bin_dTfrac_errY1'][18:], color='blue', fmt='o', mfc='white')\n",
    "ax.set_ylabel(r'$(T_{\\rm PSF} - T_{\\rm model})/ T_{\\rm PSF}$', fontsize='xx-large')\n",
    "\n",
    "ax = axes[2]\n",
    "#ax.set_ylim(-5.e-4,5.e-4)\n",
    "ax.set_ylim(-4.e-4,0.0004)\n",
    "ax.plot([min_mag,max_mag], [0,0], color='black')\n",
    "ax.fill( [min_mag,min_mag,min_mused,min_mused], [-1,1,1,-1], fill=True, color='Grey',alpha=0.3)\n",
    "e1_line = ax.errorbar(mag_bins[:-1], dictt['bin_de1'], yerr=dictt['bin_de1_err'],  color='red', fmt='o',label=r\"$\\rm{Y3 \\quad e_1}$\")\n",
    "e2_line = ax.errorbar(mag_bins[:-1], dictt['bin_de2'], yerr=dictt['bin_de2_err'], color='blue', fmt='s',label=r\"$\\rm{Y3 \\quad e_2}$\")\n",
    "\n",
    "e1_lineY1 = ax.errorbar(mag_bins[18:-1], dictt['bin_de1Y1'][18:], yerr=dictt['bin_de1_errY1'][18:],  color='red', fmt='o', mfc='white',label=r\"$\\rm{Y1 \\quad e_1}$\")\n",
    "e2_lineY1 = ax.errorbar(mag_bins[18:-1], dictt['bin_de2Y1'][18:], yerr=dictt['bin_de2_errY1'][18:], color='blue', fmt='s', mfc='white',label=r\"$\\rm{Y1 \\quad e_2}$\")\n",
    "ax.legend(loc='lower left')\n",
    "ax.set_ylabel(r'$e_{\\rm PSF} - e_{\\rm model}$', fontsize='xx-large')\n",
    "ax.set_xlim(min_mag,max_mag)\n",
    "ax.set_xlabel(r'$\\rm{Magnitude}$', fontsize='xx-large')\n",
    "\n",
    "\n",
    "#plt.hist(meddt[\"Ks\"], 30,range=(-0.004,0.002),color=\"purple\",label=\"Ks\",histtype='step')\n",
    "plt.rcParams['font.family'] = 'serif'\n",
    "plt.rcParams['font.serif'] = ['Times New Roman'] + plt.rcParams['font.serif']\n",
    "plt.rcParams[\"font.family\"] = \"Times New Roman\"\n",
    "plt.rcParams['mathtext.fontset'] = 'stix'\n",
    "\n",
    "fig.set_size_inches(7.0,12.0)\n",
    "plt.tight_layout()\n",
    "plt.savefig('dpsf_mag_nocolsplits.pdf')\n",
    "plt.show()\n",
    "\n",
    "import pickle\n",
    "def save_obj( name,obj ):\n",
    "    with open( name + '.pkl', 'wb') as f:\n",
    "        pickle.dump(obj, f, pickle.HIGHEST_PROTOCOL)\n",
    "\n",
    "save_obj('../final_plots_paper/everything_for_brighter_fatter',dictt)    \n",
    "\n",
    "\n"
   ]
  },
  {
   "cell_type": "code",
   "execution_count": 24,
   "metadata": {},
   "outputs": [
    {
     "data": {
      "text/plain": [
       "array([15. , 15.2, 15.4, 15.6, 15.8, 16. , 16.2, 16.4, 16.6, 16.8, 17. ,\n",
       "       17.2, 17.4, 17.6, 17.8, 18. , 18.2, 18.4, 18.6, 18.8, 19. , 19.2,\n",
       "       19.4, 19.6, 19.8, 20. , 20.2, 20.4, 20.6, 20.8, 21. ])"
      ]
     },
     "execution_count": 24,
     "metadata": {},
     "output_type": "execute_result"
    }
   ],
   "source": []
  },
  {
   "cell_type": "code",
   "execution_count": null,
   "metadata": {},
   "outputs": [],
   "source": []
  }
 ],
 "metadata": {
  "kernelspec": {
   "display_name": "py3s",
   "language": "python",
   "name": "py3s"
  },
  "language_info": {
   "codemirror_mode": {
    "name": "ipython",
    "version": 3
   },
   "file_extension": ".py",
   "mimetype": "text/x-python",
   "name": "python",
   "nbconvert_exporter": "python",
   "pygments_lexer": "ipython3",
   "version": "3.6.10"
  }
 },
 "nbformat": 4,
 "nbformat_minor": 4
}
