{
 "cells": [
  {
   "cell_type": "code",
   "execution_count": 1,
   "metadata": {},
   "outputs": [],
   "source": [
    "#! /usr/bin/env python\n",
    "\n",
    "from __future__ import print_function\n",
    "import os\n",
    "import numpy as np\n",
    "#from read_psf_cats import read_data, band_combinations\n",
    "import fitsio\n",
    "import treecorr\n",
    "import matplotlib\n",
    "#matplotlib.use('Agg')\n",
    "import matplotlib.pyplot as plt\n",
    "from astropy.io import fits"
   ]
  },
  {
   "cell_type": "code",
   "execution_count": 2,
   "metadata": {},
   "outputs": [
    {
     "name": "stdout",
     "output_type": "stream",
     "text": [
      "(56707987,)\n"
     ]
    }
   ],
   "source": [
    "prefix='piff' #'psfex'\n",
    "\n",
    "#reserve stars catalogue with Piff solutions\n",
    "data = fitsio.read('/global/homes/m/mjarvis/desdata/users/mjarvis/y3a1-v29/psf_y3a1-v29.fits')\n",
    "h = fitsio.read_header('/global/homes/m/mjarvis/desdata/users/mjarvis/y3a1-v29/psf_y3a1-v29.fits')\n",
    "band=data['band']\n",
    "print(np.shape(data))\n",
    "data=data[np.where((band == 'r') | (band == 'i') | (band == 'z') )] #| (band == 'g')) ]\n",
    "\n",
    "data = data[data['ra'].argsort()]#[:10000]\n",
    "rastarcat = data['ra']\n",
    "decstarcat = data['dec'] \n",
    "rastarcat[rastarcat > 180] -= 360\n"
   ]
  },
  {
   "cell_type": "code",
   "execution_count": 3,
   "metadata": {},
   "outputs": [
    {
     "name": "stdout",
     "output_type": "stream",
     "text": [
      "[u'metacal', u'gold', u'bpz', u'dnf', u'redmagic', u'redmapper', u'maglim', u'sompz']\n",
      "[u'a_sed_sfd98_g', u'a_sed_sfd98_i', u'a_sed_sfd98_r', u'a_sed_sfd98_z', u'coadd_object_id', u'dec', u'delta_mag_chrom_g', u'delta_mag_chrom_i', u'delta_mag_chrom_r', u'delta_mag_chrom_z', u'delta_mag_y4_g', u'delta_mag_y4_i', u'delta_mag_y4_r', u'delta_mag_y4_z', u'ebv_sfd98', u'extended_class_mash_sof', u'flags', u'flags_badregions', u'flags_footprint', u'flags_foreground', u'flags_gold', u'flags_phot', u'hpix_16384', u'n_images_g', u'n_images_i', u'n_images_r', u'n_images_z', u'ra', u'sextractor_flags_g', u'sextractor_flags_i', u'sextractor_flags_r', u'sextractor_flags_z', u'sof_cm_flux_corrected_g', u'sof_cm_flux_corrected_i', u'sof_cm_flux_corrected_r', u'sof_cm_flux_corrected_z', u'sof_cm_flux_err_g', u'sof_cm_flux_err_i', u'sof_cm_flux_err_r', u'sof_cm_flux_err_z', u'sof_cm_mag_corrected_g', u'sof_cm_mag_corrected_i', u'sof_cm_mag_corrected_r', u'sof_cm_mag_corrected_z', u'sof_cm_mag_err_g', u'sof_cm_mag_err_i', u'sof_cm_mag_err_r', u'sof_cm_mag_err_z', u'sof_flags', u'tilename']\n",
      "orig length 399263026\n"
     ]
    },
    {
     "name": "stderr",
     "output_type": "stream",
     "text": [
      "/global/u2/a/aamon/.conda/envs/DESenv/lib/python2.7/site-packages/ipykernel_launcher.py:25: RuntimeWarning: divide by zero encountered in log10\n",
      "/global/u2/a/aamon/.conda/envs/DESenv/lib/python2.7/site-packages/ipykernel_launcher.py:25: RuntimeWarning: invalid value encountered in log10\n",
      "/global/u2/a/aamon/.conda/envs/DESenv/lib/python2.7/site-packages/ipykernel_launcher.py:26: RuntimeWarning: divide by zero encountered in log10\n",
      "/global/u2/a/aamon/.conda/envs/DESenv/lib/python2.7/site-packages/ipykernel_launcher.py:26: RuntimeWarning: invalid value encountered in log10\n",
      "/global/u2/a/aamon/.conda/envs/DESenv/lib/python2.7/site-packages/ipykernel_launcher.py:27: RuntimeWarning: divide by zero encountered in log10\n",
      "/global/u2/a/aamon/.conda/envs/DESenv/lib/python2.7/site-packages/ipykernel_launcher.py:27: RuntimeWarning: invalid value encountered in log10\n",
      "/global/u2/a/aamon/.conda/envs/DESenv/lib/python2.7/site-packages/ipykernel_launcher.py:28: RuntimeWarning: divide by zero encountered in log10\n",
      "/global/u2/a/aamon/.conda/envs/DESenv/lib/python2.7/site-packages/ipykernel_launcher.py:28: RuntimeWarning: invalid value encountered in log10\n"
     ]
    },
    {
     "name": "stdout",
     "output_type": "stream",
     "text": [
      "no bad stars length 331306800\n",
      "[ 0  3  0 ..., 23 23 23]\n",
      "no bad stars length (331306800, 6)\n"
     ]
    },
    {
     "name": "stderr",
     "output_type": "stream",
     "text": [
      "/global/u2/a/aamon/.conda/envs/DESenv/lib/python2.7/site-packages/ipykernel_launcher.py:45: RuntimeWarning: invalid value encountered in less\n",
      "/global/u2/a/aamon/.conda/envs/DESenv/lib/python2.7/site-packages/ipykernel_launcher.py:45: RuntimeWarning: invalid value encountered in greater\n"
     ]
    },
    {
     "name": "stdout",
     "output_type": "stream",
     "text": [
      "reasonable riz length (326500332, 6)\n"
     ]
    }
   ],
   "source": [
    "#real stars with their magnnitudes to match\n",
    "catname = '/project/projectdirs/des/www/y3_cats/Y3_mastercat_03_31_20.h5'\n",
    "\n",
    "import h5py\n",
    "f = h5py.File(catname,'r')\n",
    "print(f['catalog'].keys())\n",
    "print(f['catalog/gold'].keys())\n",
    "\n",
    "#FLAGS_GOLD  If you are using SExtractor quantities, you should add (FLAGS_GOLD & 1111000) = 0 (which means it can be either 0,1,2 or 3) ; and (FLAGS_BADREGIONS & 01) = 0\n",
    "gflag = np.array(f['catalog/gold/flags_gold'])\n",
    "badflag =  np.array(f['catalog/gold/flags_badregions'])\n",
    "footflag=np.array(f['catalog/gold/flags_footprint'])\n",
    "foreflag=np.array(f['catalog/gold/flags_foreground'])\n",
    "#star_mask = np.array((f['catalog/gold/flags_gold'] == 0 ) and (f['catalog/gold/flags_gold/flags_badregions'] == 0))\n",
    "          \n",
    "              \n",
    "print(\"orig length\",len(np.array(f['catalog/gold/ra']))) #399263026\n",
    "ra = np.array(f['catalog/gold/ra'])#[star_mask] \n",
    "dec = np.array(f['catalog/gold/dec'])\n",
    "\n",
    "def flux2mag(flux, zero_pt=30):\n",
    "    return zero_pt - 2.5 * np.log10(flux)\n",
    "\n",
    "zeropt=30\n",
    "r = zeropt- 2.5*np.log10(np.array(f['catalog/gold/sof_cm_flux_corrected_r']))#[star_mask]\n",
    "i = zeropt- 2.5*np.log10(np.array(f['catalog/gold/sof_cm_flux_corrected_i']))#[star_mask]\n",
    "z = zeropt- 2.5*np.log10(np.array(f['catalog/gold/sof_cm_flux_corrected_z']))#[star_mask]\n",
    "g = zeropt- 2.5*np.log10(np.array(f['catalog/gold/sof_cm_flux_corrected_g']))#[star_mask]\n",
    "\n",
    "ra[ra > 180] -= 360\n",
    "goodgals=np.where((badflag==0) & (gflag<4) & (footflag == 1 ) & (foreflag == 0))\n",
    "ra=ra[goodgals]\n",
    "print(\"no bad stars length\",len(ra))\n",
    "\n",
    "print(gflag)\n",
    "dec=dec[goodgals] \n",
    "g=g[goodgals] \n",
    "r=r[goodgals] \n",
    "i=i[goodgals] \n",
    "z=z[goodgals] \n",
    "\n",
    "gold=np.column_stack((ra,dec,r,i,z,g))\n",
    "\n",
    "print(\"no bad stars length\",np.shape(gold))\n",
    "gold=gold[np.where((r<30) & (r>0) & (i<30) & (i>0) & (z<30) & (z>0) )]\n",
    "print(\"reasonable riz length\",np.shape(gold))\n",
    "\n",
    "goldra=gold[:,0]\n",
    "golddec=gold[:,1]\n",
    "goldr=gold[:,2]\n",
    "goldi=gold[:,3]\n",
    "goldz=gold[:,4]\n",
    "goldg=gold[:,5]"
   ]
  },
  {
   "cell_type": "code",
   "execution_count": 4,
   "metadata": {},
   "outputs": [
    {
     "name": "stdout",
     "output_type": "stream",
     "text": [
      "[u'R11', u'R12', u'R21', u'R22', u'T', u'T_err', u'coadd_object_id', u'covmat_0_1', u'covmat_1_1', u'covmat_2_2', u'dec', u'e_1', u'e_2', u'flags', u'flux_err_i', u'flux_err_r', u'flux_err_z', u'flux_i', u'flux_r', u'flux_z', u'mask_frac', u'mcal_psf_T', u'mcal_psf_e1', u'mcal_psf_e2', u'nimage_tot_i', u'nimage_tot_r', u'nimage_tot_z', u'nimage_use_i', u'nimage_use_r', u'nimage_use_z', u'psf_T', u'psf_e1', u'psf_e2', u'ra', u'size_ratio', u'snr', u'weight']\n",
      "mean:  0.778988460067\n",
      "20th:  0.36765894126\n",
      "80th:  1.16654240452\n"
     ]
    },
    {
     "data": {
      "text/plain": [
       "<matplotlib.lines.Line2D at 0x2aaaac052b90>"
      ]
     },
     "execution_count": 4,
     "metadata": {},
     "output_type": "execute_result"
    },
    {
     "data": {
      "image/png": "[encoded data removed]",
      "text/plain": [
       "<matplotlib.figure.Figure at 0x2aac52a9ced0>"
      ]
     },
     "metadata": {
      "needs_background": "light"
     },
     "output_type": "display_data"
    }
   ],
   "source": [
    "flux_tables = ['metacal/unsheared', 'metacal/sheared_1p', 'metacal/sheared_1m', 'metacal/sheared_2p', 'metacal/sheared_2m'] \n",
    "select_metacal  = f['index']['select'] # this is the master catalog\n",
    "\n",
    "print(f['catalog/metacal/unsheared'].keys())\n",
    "rselect=np.array(f['catalog/{}/flux_r'.format(flux_tables[0])][:])[select_metacal]\n",
    "zselect=np.array(f['catalog/{}/flux_z'.format(flux_tables[0])][:])[select_metacal]\n",
    "\n",
    "def flux2mag(flux, zero_pt=30):\n",
    "    return zero_pt - 2.5 * np.log10(flux)\n",
    "\n",
    "rzselect=flux2mag(rselect)-flux2mag(zselect)\n",
    "\n",
    "p20=np.percentile(rzselect,20)\n",
    "p80=np.percentile(rzselect,80)\n",
    "\n",
    "print(\"mean: \", np.mean(rzselect))\n",
    "print(\"20th: \", np.percentile(rzselect,20))\n",
    "print(\"80th: \", np.percentile(rzselect,80))\n",
    "plt.hist(rzselect,100)\n",
    "plt.axvline(np.mean(rzselect))\n"
   ]
  },
  {
   "cell_type": "code",
   "execution_count": 14,
   "metadata": {},
   "outputs": [
    {
     "name": "stdout",
     "output_type": "stream",
     "text": [
      "median:  0.72179320546\n",
      "20th:  0.36765894126\n",
      "80th:  1.16654240452\n"
     ]
    },
    {
     "data": {
      "text/plain": [
       "<matplotlib.lines.Line2D at 0x2aac666ba3d0>"
      ]
     },
     "execution_count": 14,
     "metadata": {},
     "output_type": "execute_result"
    },
    {
     "data": {
      "image/png": "[encoded data removed]",
      "text/plain": [
       "<matplotlib.figure.Figure at 0x2aac661f7750>"
      ]
     },
     "metadata": {
      "needs_background": "light"
     },
     "output_type": "display_data"
    }
   ],
   "source": [
    "print(\"median: \", np.median(rzselect))\n",
    "print(\"20th: \", np.percentile(rzselect,20))\n",
    "print(\"80th: \", np.percentile(rzselect,80))\n",
    "\n",
    "med=np.median(rzselect)\n",
    "p20=np.percentile(rzselect,20)\n",
    "p80=np.percentile(rzselect,80)\n",
    "plt.hist(rzselect,100)\n",
    "plt.axvline(med,color='black')\n",
    "plt.axvline(p20,color='red')\n",
    "plt.axvline(p80,color='green')\n",
    "\n",
    "#    ax.axvline(x=0.78, linewidth=2, color='grey',label=r\"$\\rm{median}$\")\n",
    "#    ax.axvline(x=-0.66, linewidth=2, color='grey',linestyle='--',label=r'$\\rm{20th \\, percentile}$')\n",
    "#    ax.axvline(x=2.24, linewidth=2, color='grey',linestyle=':',label=r'$\\rm{80th \\, percentile}$')\n"
   ]
  },
  {
   "cell_type": "code",
   "execution_count": 5,
   "metadata": {},
   "outputs": [],
   "source": [
    "from astropy.coordinates import SkyCoord\n",
    "from astropy import units as u\n",
    "\n",
    "goldcat = SkyCoord(ra=goldra*u.degree, dec=golddec*u.degree)  \n",
    "catalog = SkyCoord(ra=rastarcat*u.degree, dec=decstarcat*u.degree)  \n",
    "idx, d2d, d3d = catalog.match_to_catalog_sky(goldcat, nthneighbor=1) "
   ]
  },
  {
   "cell_type": "code",
   "execution_count": 6,
   "metadata": {},
   "outputs": [
    {
     "name": "stdout",
     "output_type": "stream",
     "text": [
      "27658421\n"
     ]
    },
    {
     "data": {
      "text/plain": [
       "<matplotlib.collections.PathCollection at 0x2aaca40e4e50>"
      ]
     },
     "execution_count": 6,
     "metadata": {},
     "output_type": "execute_result"
    },
    {
     "data": {
      "image/png": "[encoded data removed]",
      "text/plain": [
       "<matplotlib.figure.Figure at 0x2aaca40e4a90>"
      ]
     },
     "metadata": {
      "needs_background": "light"
     },
     "output_type": "display_data"
    }
   ],
   "source": [
    "matchlim=1*u.arcsecond\n",
    "print(len(d2d[d2d < matchlim]))  \n",
    "plt.scatter(rastarcat[np.where(d2d >matchlim)],decstarcat[np.where(d2d > matchlim)], marker='.')\n",
    "plt.scatter(rastarcat[np.where(d2d < matchlim)],decstarcat[np.where(d2d < matchlim)], marker='.', color=\"red\", alpha=0.5)"
   ]
  },
  {
   "cell_type": "code",
   "execution_count": 7,
   "metadata": {},
   "outputs": [
    {
     "name": "stdout",
     "output_type": "stream",
     "text": [
      "27658421\n",
      "27658421\n",
      "['z' 'r' 'i' ..., 'z' 'r' 'i']\n",
      "(27658421,)\n",
      "r  (7048025,)\n",
      "i  (9951448,)\n",
      "z  (10658948,)\n",
      "g  (0,)\n"
     ]
    }
   ],
   "source": [
    "#i've matched psfres for r i and z. now I want to only take one band at a time.\n",
    "thisdata=data[np.where(d2d < matchlim)]\n",
    "\n",
    "thisgoldi=goldi[idx][np.where(d2d < matchlim)]\n",
    "thisgoldr=goldr[idx][np.where(d2d < matchlim)]\n",
    "thisgoldg=goldg[idx][np.where(d2d < matchlim)]\n",
    "thisgoldz=goldz[idx][np.where(d2d < matchlim)]\n",
    "thismag=thisdata['mag']\n",
    "print(len(thisdata))\n",
    "print(len(thisgoldi))\n",
    "\n",
    "print(thisdata['band'])\n",
    "thisband=thisdata['band']\n",
    "print(np.shape(thisdata))\n",
    "rband=thisdata[np.where(thisband==\"r\")]\n",
    "print(\"r \", np.shape(rband))\n",
    "iband=thisdata[np.where(thisband==\"i\")]\n",
    "print(\"i \", np.shape(iband))\n",
    "zband=thisdata[np.where(thisband==\"z\")]\n",
    "print(\"z \", np.shape(zband)) \n",
    "gband=thisdata[np.where(thisband==\"g\")]\n",
    "print(\"g \", np.shape(gband)) "
   ]
  },
  {
   "cell_type": "code",
   "execution_count": null,
   "metadata": {},
   "outputs": [],
   "source": []
  },
  {
   "cell_type": "code",
   "execution_count": null,
   "metadata": {},
   "outputs": [],
   "source": []
  },
  {
   "cell_type": "code",
   "execution_count": 8,
   "metadata": {},
   "outputs": [
    {
     "name": "stdout",
     "output_type": "stream",
     "text": [
      "mean de =  3.35058945231e-05 -4.8042184e-05\n",
      "mean dt =  -0.000216052335892\n"
     ]
    }
   ],
   "source": [
    "def compute_res(d):\n",
    "\n",
    "    de1 =  d['obs_e1']-d[prefix+'_e1']\n",
    "    de2 =  d['obs_e2']-d[prefix+'_e2']\n",
    "    dt =  (d['obs_T']-d[prefix+'_T'])\n",
    "    dtfrac = dt/d['obs_T']\n",
    "    print('mean de = ',np.mean(de1),np.mean(de2))\n",
    "    print('mean dt = ',np.mean(dt))\n",
    "\n",
    "    return dtfrac, dt,  de1, de2\n",
    "\n",
    "fracsizeres, sizeres, e1res, e2res=compute_res(thisdata)"
   ]
  },
  {
   "cell_type": "code",
   "execution_count": 35,
   "metadata": {},
   "outputs": [
    {
     "name": "stdout",
     "output_type": "stream",
     "text": [
      "[0.0033189165342139785, 0.0016939151762819984, 0.001268971854168448, 0.0013426282818279202, 0.00099403133400817359, 0.00060270326565780804, 0.00043232486616046691, 0.00010635557167054285, 8.9326662963397848e-05, 0.00010075591173522366, 0.00011694284265806729, 0.00012863612993131089, 0.00013156797886897106, 0.00013150791312124962, 0.00013386997052952095, 0.00013541954177217515, 0.00013602839401879522, 0.00013415907268137252, 0.00012985922548648088, 0.00012362663618817186, 0.00011806390745689454, 0.00011396560965340768, 0.00011175933711513604, 0.00011226971241103594, 0.0001173690250646661, 0.00012783720940288306, 0.00014601959757733202, 0.00017083043662722194, 0.00020580373109571189, 0.00024484512386711767]\n",
      "[0.40356342019173813, 0.40067499060628708, 0.39481586103742422, 0.3958759844767481, 0.39519145461894112, 0.3937682644562962, 0.39420865675817024, 0.38865568696649494, 0.38857049456710502, 0.38741834089247029, 0.38684819442940643, 0.38579138159649989, 0.38373101250494557, 0.3820209799923327, 0.38113867243876121, 0.3794999756644285, 0.37847614465952795, 0.37654413793683789, 0.3745517544234141, 0.37233675783293563, 0.37073661450772383, 0.36916064436718649, 0.36752618797245873, 0.36562273419209401, 0.36368678980125801, 0.36114878684386875, 0.35901630340262636, 0.35639592641109991, 0.35341427559399441, 0.35164191414645729]\n",
      "30\n",
      "30\n"
     ]
    },
    {
     "data": {
      "image/png": "[encoded data removed]",
      "text/plain": [
       "<matplotlib.figure.Figure at 0x2aac669545d0>"
      ]
     },
     "metadata": {
      "needs_background": "light"
     },
     "output_type": "display_data"
    }
   ],
   "source": [
    "#want psf vs colour:  #r-i with r or i band psfs and i-z for x-psf\n",
    "def bin_by_col2(m, T, dTfrac, de1, de2, min_mused,band):\n",
    "    min_mag = -0.8 #min(m)\n",
    "    max_mag = 2.5 #max(m)   \n",
    "    mag_bins = np.linspace(min_mag, max_mag,31)\n",
    "\n",
    "    index = np.digitize(m, mag_bins)\n",
    "    bin_de1 = [de1[index == i].mean() for i in range(1, len(mag_bins))]\n",
    "    bin_de2 = [de2[index == i].mean() for i in range(1, len(mag_bins))]\n",
    "    bin_T = [T[index == i].mean() for i in range(1, len(mag_bins))]\n",
    "    bin_dTfrac = [dTfrac[index == i].mean() for i in range(1, len(mag_bins))]\n",
    "    bin_de1_err = [ np.sqrt(de1[index == i].var() / len(de1[index == i]))\n",
    "                    for i in range(1, len(mag_bins)) ]\n",
    "    bin_de2_err = [ np.sqrt(de2[index == i].var() / len(de2[index == i]))\n",
    "                    for i in range(1, len(mag_bins)) ]\n",
    "    bin_T_err = [ np.sqrt(T[index == i].var() / len(T[index == i]))\n",
    "                    for i in range(1, len(mag_bins)) ]\n",
    "    bin_dTfrac_err = [ np.sqrt(dTfrac[index == i].var() / len(dTfrac[index == i]))\n",
    "                    for i in range(1, len(mag_bins)) ]\n",
    "    print(bin_T_err)\n",
    "    print(bin_T)\n",
    "    print(len(bin_T_err))\n",
    "    print(len(bin_T))\n",
    "#\n",
    "    # Fix up nans\n",
    "    for i in range(1,len(mag_bins)):\n",
    "        if i not in index:\n",
    "            bin_de1[i-1] = 0.\n",
    "            bin_de2[i-1] = 0.\n",
    "            #bin_dT[i-1] = 0.\n",
    "            bin_dTfrac[i-1] = 0.\n",
    "            bin_de1_err[i-1] = 0.\n",
    "            bin_de2_err[i-1] = 0.\n",
    "            #bin_dT_err[i-1] = 0.\n",
    "            bin_dTfrac_err[i-1] = 0.\n",
    "            \n",
    "            \n",
    "    fit = np.polyfit(mag_bins[:-1], bin_dTfrac, 3)\n",
    "    fit_fn = np.poly1d(fit) \n",
    "    # fit_fn is now a function which takes in x and returns an estimate for y\n",
    "    \n",
    "\n",
    "    fig, axes = plt.subplots(1,3)\n",
    "    \n",
    "    ax = axes[0]\n",
    "    #ax.set_ylim(-0.002,0.002)\n",
    "    #ax.plot([min_mag-0.1,max_mag], [0,0], color='black')\n",
    "    #ax.plot([min_mused,min_mused],[-1,1], color='Grey')\n",
    "    #ax.fill( [min_mag,min_mag,min_mused,min_mused], [-1,1,1,-1], fill=True, color='Grey',alpha=0.3)\n",
    "    t_line = ax.errorbar(mag_bins[:-1], bin_T, yerr=bin_T_err, color='blue', fmt='o')\n",
    "    ax.axvline(x=med, linewidth=2, color='grey',label=r\"$\\rm{median}$\")\n",
    "    ax.axvline(x=p20, linewidth=2, color='grey',linestyle='--',label=r'$\\rm{20th \\, percentile}$')\n",
    "    ax.axvline(x=p80, linewidth=2, color='grey',linestyle=':',label=r'$\\rm{80th \\, percentile}$')\n",
    "    #ax.legend([t_line], [r'$\\delta T$'])\n",
    "    ax.set_ylabel(r'$T_{\\rm PSF}\\quad({\\rm arcsec}^2)$', fontsize='xx-large')\n",
    "    ax.set_xlim(min_mag,max_mag)\n",
    "    #ax.set_title(r'$riz-{\\rm band \\, PSF}$', fontsize='x-large' )\n",
    "    ax.legend(prop={'size': 16},loc='upper right')\n",
    "    ax.set_xlabel(r'$r-z$', fontsize='xx-large' )\n",
    "\n",
    "    ax = axes[1]\n",
    "    #ax.set_ylim(-0.002,0.002)\n",
    "    ax.plot([min_mag-0.1,max_mag], [0,0], color='black')\n",
    "    #ax.plot([min_mused,min_mused],[-1,1], color='Grey')\n",
    "    #ax.fill( [min_mag,min_mag,min_mused,min_mused], [-1,1,1,-1], fill=True, color='Grey',alpha=0.3)\n",
    "    t_line = ax.errorbar(mag_bins[:-1], bin_dTfrac, yerr=bin_dTfrac_err, color='blue', fmt='o')\n",
    "    #ax.plot(mag_bins[:-1], fit_fn(mag_bins[:-1]), '--k')\n",
    "    #ax.legend([t_line], [r'$\\delta T$'])\n",
    "    ax.axvline(x=med, linewidth=2, color='grey')\n",
    "    ax.axvline(x=p20, linewidth=2, color='grey',linestyle='--')\n",
    "    ax.axvline(x=p80, linewidth=2, color='grey',linestyle=':')\n",
    "    ax.set_ylabel(r'$(T_{\\rm PSF} - T_{\\rm model})/ T_{\\rm PSF}$', fontsize='xx-large')\n",
    "    ax.set_xlim(min_mag,max_mag)\n",
    "    ax.set_ylim(-0.007,0.0125)\n",
    "    ax.set_xlabel(r'$r-z$', fontsize='xx-large' )\n",
    "    #ax.set_xlim(min_mag, max_mag)\n",
    "\n",
    "    ax = axes[2]\n",
    "    #ax.set_ylim(-3.e-4,4.e-4)\n",
    "    ax.plot([min_mag-0.1,max_mag+0.1], [0,0], color='black')\n",
    "    #ax.plot([-0.5,min_mused],[-1,1], color='Grey')\n",
    "    #ax.fill( [min_mag,min_mag,mi1_mused,min_mused], [-1,1,1,-1], fill=True, color='Grey',alpha=0.3)\n",
    "    e1_line = ax.errorbar(mag_bins[:-1], bin_de1, yerr=bin_de1_err,  color='red', fmt='o', mfc='white')\n",
    "    e2_line = ax.errorbar(mag_bins[:-1], bin_de2, yerr=bin_de2_err, color='blue', fmt='o')\n",
    "    #ax.axhline(y=0.0002, linewidth=4, color='grey')\n",
    "    #ax.axhline(y=-0.0002, linewidth=4, color='grey')\n",
    "    ax.axvline(x=med, linewidth=2, color='grey')  #0.78\n",
    "    ax.axvline(x=p20, linewidth=2, color='grey',linestyle='--')  #-0.66\n",
    "    ax.axvline(x=p80, linewidth=2, color='grey',linestyle=':')  #2.24\n",
    "    ax.legend([e1_line, e2_line], [r'$e_1$', r'$e_2$'], loc='upper right', fontsize='xx-large')\n",
    "    ax.set_ylabel(r'$e_{\\rm PSF} - e_{\\rm model}$', fontsize='xx-large')\n",
    "    ax.set_ylim(-0.00075,0.001)\n",
    "    ax.set_xlim(min_mag,max_mag)\n",
    "    #ax.set_xlim(min_mag,max_mag)\n",
    "    ax.set_xlabel(r'$r-z$', fontsize='xx-large' )\n",
    "    \n",
    "    plt.rcParams['font.family'] = 'serif'\n",
    "    plt.rcParams['font.serif'] = ['Times New Roman'] + plt.rcParams['font.serif']\n",
    "    plt.rcParams[\"font.family\"] = \"Times New Roman\"\n",
    "    \n",
    "    plt.rcParams['mathtext.fontset'] = 'stix'\n",
    "\n",
    "    fig.set_size_inches(16.0,4.0)\n",
    "    plt.tight_layout()\n",
    "    plt.savefig('dpsf_colour_r-z_%sPSF.pdf' %(band))\n",
    "    plt.show()\n",
    "    \n",
    "bin_by_col2(thisgoldr-thisgoldz, thisdata['obs_T'], fracsizeres, e1res, e2res, 15,\"r\") "
   ]
  },
  {
   "cell_type": "code",
   "execution_count": 34,
   "metadata": {},
   "outputs": [
    {
     "name": "stdout",
     "output_type": "stream",
     "text": [
      "27658421 27658421\n",
      "27658421 27658421 27658421\n"
     ]
    }
   ],
   "source": [
    "print(len(thisgoldr-thisgoldz), len(thisdata['obs_T']))\n",
    "print(len( fracsizeres),len( e1res), len(e2res))\n",
    "\n",
    "import pickle\n",
    "\n",
    "# write python dict to a file\n",
    "mydict = {'a': thisgoldr, 'b': thisgoldz, 'c': thisdata,'fracsizeres': fracsizeres,'e1res': e1res,'e2res': e2res}\n",
    "output = open('myfile.pkl', 'wb')\n",
    "pickle.dump(mydict, output)\n",
    "output.close()"
   ]
  },
  {
   "cell_type": "code",
   "execution_count": null,
   "metadata": {},
   "outputs": [],
   "source": [
    "#FOR THE PIFF PAPER - BF WITH COLOUR SPLITS"
   ]
  },
  {
   "cell_type": "code",
   "execution_count": null,
   "metadata": {},
   "outputs": [],
   "source": [
    "#bin in colour\n",
    "rz=thisgoldr-thisgoldz\n",
    "print(max(rz))\n",
    "lo=thisdata[np.where((rz<0.05) & (rz>-0.5))]   #0.1-0.25\n",
    "rlo=thisgoldr[np.where((rz<0.05) & (rz>-0.5))] \n",
    "zlo=thisgoldz[np.where((rz<0.05) & (rz>-0.5))] \n",
    "med=thisdata[np.where((rz>0.85) & (rz<1))]   #0.85-1\n",
    "rmed=thisgoldr[np.where((rz>0.85) & (rz<1))] \n",
    "zmed=thisgoldz[np.where((rz>0.85) & (rz<1))] \n",
    "hi=thisdata[np.where((rz>1.85) & (rz<2))]  #1.85-2\n",
    "rhi=thisgoldr[np.where((rz>1.85) & (rz<2))] \n",
    "zhi=thisgoldz[np.where((rz>1.85) & (rz<2))] \n",
    "print(hi)\n",
    "print(len(lo),len(med),len(hi))"
   ]
  },
  {
   "cell_type": "code",
   "execution_count": null,
   "metadata": {},
   "outputs": [],
   "source": [
    "fracsizeres, sizeres, e1res, e2res=compute_res(lo)\n",
    "mag_bins, lobin_dT, lobin_dT_err, lobin_dTfrac, lobin_dTfrac_err, lobin_de1, lobin_de1_err, lobin_de2, lobin_de2_err=bin_by_mag(lo['mag'], sizeres, fracsizeres, e1res, e2res, 16.5,\"r-z=0.1-0.25,  i\")\n",
    "\n",
    "fracsizeres, sizeres, e1res, e2res=compute_res(med)\n",
    "mag_bins, medbin_dT, medbin_dT_err, medbin_dTfrac, medbin_dTfrac_err, medbin_de1, medbin_de1_err, medbin_de2, medbin_de2_err= bin_by_mag(med['mag'], sizeres, fracsizeres, e1res, e2res, 16.5,\"r-z=0.85-1, i\")\n",
    "\n",
    "fracsizeres, sizeres, e1res, e2res=compute_res(hi)\n",
    "mag_bins, hibin_dT, hibin_dT_err, hibin_dTfrac, hibin_dTfrac_err, hibin_de1, hibin_de1_err, hibin_de2, hibin_de2_err=bin_by_mag(hi['mag'], sizeres, fracsizeres, e1res, e2res, 16.5,\"r-z=1.85-2,  i\")\n",
    "\n",
    "fracsizeres, sizeres, e1res, e2res=compute_res(data)\n",
    "mag_bins,bin_dT, bin_dT_err, bin_dTfrac, bin_dTfrac_err, bin_de1, bin_de1_err, bin_de2, bin_de2_err= bin_by_mag(data['mag'], sizeres, fracsizeres, e1res, e2res, 16.5,\"all i\")\n",
    "\n",
    "fig, axes = plt.subplots(4,1, sharex=True)\n",
    "min_mag=15\n",
    "max_mag=21\n",
    "min_mused=16.5\n",
    "\n",
    "ax = axes[0]\n",
    "ax.set_ylim(-0.003,0.003)\n",
    "#ax.set_title('%s' % band)\n",
    "ax.set_title(r'$riz-\\rm{band}$',fontsize='x-large')\n",
    "ax.plot([min_mag,max_mag], [0,0], color='black')\n",
    "#ax.plot([min_mused,min_mused],[-1,1], color='Grey')\n",
    "ax.fill( [min_mag,min_mag,min_mused,min_mused], [-1,1,1,-1], fill=True, color='Grey',alpha=0.3)\n",
    "\n",
    "t_linelo = ax.errorbar(mag_bins[:-1], lobin_dT, yerr=lobin_dT_err, color='darkturquoise', fmt='x',label=r\"$r-z$ = -0.5 - 0.05\")\n",
    "t_linemed = ax.errorbar(mag_bins[:-1], medbin_dT, yerr=medbin_dT_err, color='orange', fmt='*',label=r\"$r-z$ = 0.85 - 1\")\n",
    "t_linehi = ax.errorbar(mag_bins[:-1], hibin_dT, yerr=hibin_dT_err, color='magenta', fmt='.',label=r\"$r-z$ = 1.85 - 2\")\n",
    "t_line = ax.errorbar(mag_bins[:-1], bin_dT, yerr=bin_dT_err, color='black', fmt='o',label=\"all\")\n",
    "#ax.plot(mag_bins[:-1], fit_fn(mag_bins[:-1]), '--k')\n",
    "#ax.fill( [18.3,18.3,max_mag,max_mag], [0.003,-0.001,-0.001,0.003], fill=True, color='yellow',alpha=0.3)\n",
    "ax.set_ylabel(r'$(T_{\\rm PSF} - T_{\\rm model}) \\quad({\\rm arcsec}^2)$', fontsize='x-large')\n",
    "ax.legend(loc='lower left')\n",
    "\n",
    "ax = axes[1]\n",
    "#ax.set_ylim(-0.0025,0.0025)\n",
    "ax.set_ylim(-0.01,0.01)\n",
    "ax.plot([min_mag,max_mag], [0,0], color='black')\n",
    "#ax.plot([min_mused,min_mused],[-1,1], color='Grey')\n",
    "ax.fill( [min_mag,min_mag,min_mused,min_mused], [-1,1,1,-1], fill=True, color='Grey',alpha=0.3)\n",
    "\n",
    "t_linelo = ax.errorbar(mag_bins[:-1], lobin_dTfrac, yerr=lobin_dTfrac_err, color='darkturquoise', fmt='x',label=\"-0.5 - 0.05\")\n",
    "t_linemed = ax.errorbar(mag_bins[:-1], medbin_dTfrac, yerr=medbin_dTfrac_err, color='orange', fmt='*',label=\"r-z=0.85 - 1\")\n",
    "t_linehi = ax.errorbar(mag_bins[:-1], hibin_dTfrac, yerr=hibin_dTfrac_err, color='magenta', fmt='.',label=\"r-z=1.85 - 2\")\n",
    "t_line = ax.errorbar(mag_bins[:-1], bin_dTfrac, yerr=bin_dTfrac_err, color='black', fmt='o')\n",
    "#ax.legend([t_line], [r'$\\delta T$'])\n",
    "ax.set_ylabel(r'$(T_{\\rm PSF} - T_{\\rm model})/ T_{\\rm PSF}$', fontsize='x-large')\n",
    "\n",
    "ax = axes[2]\n",
    "#ax.set_ylim(-3.e-4,3.e-4)\n",
    "ax.set_ylim(-5.e-4,5.e-4)\n",
    "ax.plot([min_mag,max_mag], [0,0], color='black')\n",
    "#ax.plot([min_mused,min_mused],[-1,1], color='Grey')\n",
    "ax.fill( [min_mag,min_mag,min_mused,min_mused], [-1,1,1,-1], fill=True, color='Grey',alpha=0.3)\n",
    "e1_linelo = ax.errorbar(mag_bins[:-1], lobin_de1, yerr=lobin_de1_err, color='darkturquoise', fmt='x')\n",
    "#e1_linelo = ax.errorbar(mag_bins[:-1], lobin_de1, yerr=lobin_de1_err, color='magenta', fmt='o')\n",
    "#e2_linelo = ax.errorbar(mag_bins[:-1], lobin_de2, yerr=lobin_de2_err, color='magenta', fmt='x')\n",
    "\n",
    "e1_linemed = ax.errorbar(mag_bins[:-1], medbin_de1, yerr=medbin_de1_err, color='orange', fmt='*')\n",
    "#e2_linemed= ax.errorbar(mag_bins[:-1], medbin_de2, yerr=medbin_de2_err, color='orange', fmt='x')\n",
    "\n",
    "e1_linehi = ax.errorbar(mag_bins[:-1], hibin_de1, yerr=hibin_de1_err, color='magenta', fmt='.')\n",
    "#e2_linehi = ax.errorbar(mag_bins[:-1], hibin_de2, yerr=hibin_de2_err, color='darkturquoise', fmt='x')\n",
    "\n",
    "e1_line = ax.errorbar(mag_bins[:-1], bin_de1, yerr=bin_de1_err, color='black', fmt='o')\n",
    "\n",
    "#ax.axhline(y=0.0002, linewidth=4, color='grey')\n",
    "#ax.axhline(y=-0.0002, linewidth=4, color='grey')\n",
    "#ax.fill( [18.3,18.3,max_mag,max_mag], [0.0002,-0.0002,-0.0002,0.0002], fill=True, color='yellow',alpha=0.3)\n",
    "#ax.legend([e1_linelo, e2_linelo], [r'$e_1$', r'$e_2$'], fontsize='x-large')\n",
    "ax.set_ylabel(r'$e_{\\rm PSF}^1 - e_{\\rm model}^1$', fontsize='x-large')\n",
    "\n",
    "ax.set_xlim(min_mag,max_mag)\n",
    "#ax.set_xlabel('Magnitude', fontsize='x-large')\n",
    "\n",
    "ax = axes[3]\n",
    "#ax.set_ylim(-3.e-4,3.e-4)\n",
    "ax.set_ylim(-5.e-4,5.e-4)\n",
    "ax.plot([min_mag,max_mag], [0,0], color='black')\n",
    "#ax.plot([min_mused,min_mused],[-1,1], color='Grey')\n",
    "ax.fill( [min_mag,min_mag,min_mused,min_mused], [-1,1,1,-1], fill=True, color='Grey',alpha=0.3)\n",
    "#e1_linelo = ax.errorbar(mag_bins[:-1], lobin_de1, yerr=lobin_de1_err, color='magenta', fmt='o')\n",
    "e2_linelo = ax.errorbar(mag_bins[:-1], lobin_de2, yerr=lobin_de2_err, color='darkturquoise', fmt='x')\n",
    "\n",
    "#e1_linemed = ax.errorbar(mag_bins[:-1], medbin_de1, yerr=medbin_de1_err, color='orange', fmt='o')\n",
    "e2_linemed= ax.errorbar(mag_bins[:-1], medbin_de2, yerr=medbin_de2_err, color='orange', fmt='*')\n",
    "\n",
    "#e1_linehi = ax.errorbar(mag_bins[:-1], hibin_de1, yerr=hibin_de1_err, color='darkturquoise', fmt='o')\n",
    "e2_linehi = ax.errorbar(mag_bins[:-1], hibin_de2, yerr=hibin_de2_err, color='magenta', fmt='.')\n",
    "\n",
    "e2_line = ax.errorbar(mag_bins[:-1], bin_de2, yerr=bin_de2_err, color='black', fmt='o')\n",
    "\n",
    "#ax.axhline(y=0.0002, linewidth=4, color='grey')\n",
    "#ax.axhline(y=-0.0002, linewidth=4, color='grey')\n",
    "#ax.fill( [18.3,18.3,max_mag,max_mag], [0.0002,-0.0002,-0.0002,0.0002], fill=True, color='yellow',alpha=0.3)\n",
    "#ax.legend([e1_linelo, e2_linelo], [r'$e_1$', r'$e_2$'], fontsize='x-large')\n",
    "ax.set_ylabel(r'$e_{\\rm PSF}^2 - e_{\\rm model}^2$', fontsize='x-large')\n",
    "\n",
    "ax.set_xlim(min_mag,max_mag)\n",
    "ax.set_xlabel(r'$\\rm{Magnitude}$', fontsize='x-large')\n",
    "\n",
    "#plt.hist(meddt[\"Ks\"], 30,range=(-0.004,0.002),color=\"purple\",label=\"Ks\",histtype='step')\n",
    "plt.rcParams['font.family'] = 'serif'\n",
    "plt.rcParams['font.serif'] = ['Times New Roman'] + plt.rcParams['font.serif']\n",
    "plt.rcParams[\"font.family\"] = \"Times New Roman\"\n",
    "plt.rcParams['mathtext.fontset'] = 'stix'\n",
    "\n",
    "\n",
    "\n",
    "fig.set_size_inches(7.0,12.0)\n",
    "plt.tight_layout()\n",
    "plt.savefig('dpsf_mag_colsplits.pdf')\n",
    "plt.show()\n",
    "\n",
    "print(mag_bins[:-1], lobin_de2)"
   ]
  }
 ],
 "metadata": {
  "kernelspec": {
   "display_name": "desenv",
   "language": "python",
   "name": "desenv"
  },
  "language_info": {
   "codemirror_mode": {
    "name": "ipython",
    "version": 2
   },
   "file_extension": ".py",
   "mimetype": "text/x-python",
   "name": "python",
   "nbconvert_exporter": "python",
   "pygments_lexer": "ipython2",
   "version": "2.7.15"
  }
 },
 "nbformat": 4,
 "nbformat_minor": 4
}
