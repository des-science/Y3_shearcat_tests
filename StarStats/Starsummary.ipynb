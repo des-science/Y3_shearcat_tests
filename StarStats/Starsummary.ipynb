{
 "cells": [
  {
   "cell_type": "code",
   "execution_count": 1,
   "metadata": {},
   "outputs": [],
   "source": [
    "#! /usr/bin/env python\n",
    "\n",
    "# to make size- mag plot for stars. \n",
    "#Want to use actual stars for modelling- not just reserve. \n",
    "#Also want to use one exposure and one ccd: https://cdcvs.fnal.gov/redmine/projects/deswlwg/wiki/PSF_Modeling\n",
    "#Need flags for cadidate and psf star\n",
    "\n",
    "from __future__ import print_function\n",
    "import os\n",
    "import numpy as np\n",
    "#from read_psf_cats import read_data, band_combinations\n",
    "import fitsio\n",
    "import treecorr\n",
    "import matplotlib\n",
    "#matplotlib.use('Agg')\n",
    "import matplotlib.pyplot as plt\n",
    "from astropy.io import fits\n",
    "\n",
    "\n",
    "def hex_to_rgb(value):\n",
    "    value = value.lstrip('#')\n",
    "    lv = len(value)\n",
    "    return tuple(int(value[i:i + lv // 3], 16) for i in range(0, lv, lv // 3))\n",
    "\n",
    "def rgb_to_hex(rgb):\n",
    "    return '#%02x%02x%02x' % rgb\n",
    "   \n",
    "#des scheme\n",
    "colors = ['#601A4A', '#EE442F','#63ACBE']\n",
    "\n",
    "c_2=rgb_to_hex((239, 96, 96))\n",
    "c_3=rgb_to_hex((55, 94, 50)) \n",
    "c_23=rgb_to_hex((121, 183, 179)) "
   ]
  },
  {
   "cell_type": "code",
   "execution_count": 2,
   "metadata": {},
   "outputs": [],
   "source": [
    "def add_to_list(filter, vlist, value):\n",
    "    if 'griz' in vlist.keys():\n",
    "        print(\"1\")\n",
    "        vlist['griz'].append(value)\n",
    "    if filter not in vlist.keys():\n",
    "        print(\"2\")\n",
    "        vlist[filter] = []\n",
    "    if 'riz' in vlist.keys() and 'g' not in filter:\n",
    "        print(\"3\")\n",
    "        vlist['riz'].append(value)\n",
    "    vlist[filter].append(value)\n",
    "    print(vlist)"
   ]
  },
  {
   "cell_type": "code",
   "execution_count": 3,
   "metadata": {},
   "outputs": [],
   "source": [
    "def get_data(exps, work, fwhm_list, med_size_list, mean_size_list, tag):\n",
    "\n",
    "    import astropy.io.fits as pyfits\n",
    "    import os\n",
    "    #expinfo_file=s.path.join(cat_dir, exp + \"exp_psf_cat_\" + exp + \".fits\")\n",
    "  \n",
    "    print(work)\n",
    "    cat_dir = work\n",
    "    print(exps)\n",
    "   \n",
    "    for exp in exps:\n",
    "        i=0\n",
    "        if i<10:\n",
    "            cat_file = os.path.join(cat_dir, exp + \"/exp_psf_cat_\" + exp + \".fits\")\n",
    "\n",
    "            with fitsio.FITS(cat_file) as pyf:\n",
    "                band=pyf['info']['band'].read()\n",
    "                band=band[0]\n",
    "                fwhm=np.median(pyf['info']['star_fwhm'].read())\n",
    "\n",
    "                if pyf['stars']['star_flag'] != 0:\n",
    "                    continue\n",
    "                    \n",
    "            print(band)\n",
    "            add_to_list(band, fwhm_list, fwhm)\n",
    "            i+=1\n",
    "\n",
    "    print('\\nFinished processing all exposures')"
   ]
  },
  {
   "cell_type": "code",
   "execution_count": null,
   "metadata": {},
   "outputs": [
    {
     "name": "stdout",
     "output_type": "stream",
     "text": [
      "work dir =  /global/project/projectdirs/des/wl/desdata/users/mjarvis/y3a1-v29/\n",
      "/global/project/projectdirs/des/wl/desdata/users/mjarvis/y3a1-v29/\n",
      "['349809' '349810' '349811' ..., '492875' '492876' '492877']\n"
     ]
    }
   ],
   "source": [
    "file=\"test.dat\" #exps.da\n",
    "tag=\"exp_psf_cat_\"\n",
    "work=\"/global/project/projectdirs/des/wl/desdata/users/mjarvis/y3a1-v29/\"\n",
    "exps=np.loadtxt(\"/global/project/projectdirs/des/wl/desdata/users/mjarvis/y3a1-v29/exps.dat\").astype(int)\n",
    "\n",
    "print('work dir = ', work)\n",
    "\n",
    "\"\"\"if args.file != '':\n",
    "    print('Read file ',file)\n",
    "    with open(file) as fin:\n",
    "        data = [ line.split() for line in fin ]\n",
    "    runs, exps = zip(*data)\n",
    "else:\n",
    "    runs = args.runs\n",
    "    exps = args.exps\n",
    "\"\"\"\n",
    "fwhm_list = {}\n",
    "med_size_list = {}\n",
    "mean_size_list = {}\n",
    "\n",
    "get_data(exps.astype(str), work, fwhm_list, med_size_list, mean_size_list, tag)\n",
    "print(fwhm_list)\n"
   ]
  },
  {
   "cell_type": "code",
   "execution_count": null,
   "metadata": {},
   "outputs": [],
   "source": [
    "#plot_seeing(fwhm_list)\n",
    "fwhm=fwhm_list\n",
    "fig = plt.figure()\n",
    "plt.minorticks_on()\n",
    "ax = fig.add_subplot(111)\n",
    "print('median seeing in r = ',np.median(fwhm['r']))\n",
    "print('median seeing in i = ',np.median(fwhm['i']))\n",
    "print('median seeing in z = ',np.median(fwhm['z']))\n",
    "\n",
    "riz = np.concatenate([fwhm['r'], fwhm['i'], fwhm['z']])\n",
    "print('median seeing in riz = ',np.median(riz))\n",
    "\n",
    "nbins = 40\n",
    "range = (0.7, 1.7)\n",
    "width = (range[1]-range[0])/nbins\n",
    "n, bins, p = ax.hist([fwhm['z'],fwhm['i'],fwhm['r']], bins=nbins, range=range, \n",
    "                     histtype='barstacked', fill=True,\n",
    "                     color=[c_2,c_3,c_23], width=width)\n",
    "ax.set_xlabel('Seeing FWHM (arcsec)')\n",
    "ax.set_ylabel('Number of exposures')\n",
    "ax.legend(reversed(p), ['r', 'i', 'z'], loc='upper right')\n",
    "ax.set_xlim(*range)\n",
    "plt.tight_layout()\n",
    "plt.savefig('seeing.pdf')\n",
    "plt.show()"
   ]
  },
  {
   "cell_type": "code",
   "execution_count": null,
   "metadata": {},
   "outputs": [],
   "source": []
  }
 ],
 "metadata": {
  "kernelspec": {
   "display_name": "desenv",
   "language": "python",
   "name": "desenv"
  },
  "language_info": {
   "codemirror_mode": {
    "name": "ipython",
    "version": 2
   },
   "file_extension": ".py",
   "mimetype": "text/x-python",
   "name": "python",
   "nbconvert_exporter": "python",
   "pygments_lexer": "ipython2",
   "version": "2.7.15"
  }
 },
 "nbformat": 4,
 "nbformat_minor": 4
}
